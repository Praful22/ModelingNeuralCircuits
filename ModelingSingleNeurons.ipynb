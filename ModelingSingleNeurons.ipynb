{
  "nbformat": 4,
  "nbformat_minor": 0,
  "metadata": {
    "colab": {
      "provenance": [],
      "authorship_tag": "ABX9TyPzS1NbvfLer+snZCi7SBb9",
      "include_colab_link": true
    },
    "kernelspec": {
      "name": "python3",
      "display_name": "Python 3"
    },
    "language_info": {
      "name": "python"
    }
  },
  "cells": [
    {
      "cell_type": "markdown",
      "metadata": {
        "id": "view-in-github",
        "colab_type": "text"
      },
      "source": [
        "<a href=\"https://colab.research.google.com/github/Praful22/ModelingNeuralCircuits/blob/main/ModelingSingleNeurons.ipynb\" target=\"_parent\"><img src=\"https://colab.research.google.com/assets/colab-badge.svg\" alt=\"Open In Colab\"/></a>"
      ]
    },
    {
      "cell_type": "markdown",
      "source": [
        "## Modeling Single Neurons\n",
        "\n",
        "1. Model: Mathematical representation through logic-based development of continuous or discrete natural or anything but natural phenomenon.\n",
        "\n",
        "\n",
        "2. Modeling: The process of developing models based on known observations, hitherto verified laws, and creativity.\n",
        "\n",
        "3. Neuron(s): νεῦρον meaning 'sinew, tendon, cord' [Wikipedia](https://en.wikipedia.org/wiki/Neuron#Etymology_and_spelling:~:text=the%20ancient%20Greek-,%CE%BD%CE%B5%E1%BF%A6%CF%81%CE%BF%CE%BD,-neuron%20%27sinew%2C%20cord)"
      ],
      "metadata": {
        "id": "GtQub9Pbgg4Y"
      }
    },
    {
      "cell_type": "code",
      "execution_count": null,
      "metadata": {
        "id": "zRMJSfAG6fql"
      },
      "outputs": [],
      "source": []
    },
    {
      "cell_type": "markdown",
      "source": [],
      "metadata": {
        "id": "FgXaHK2-ggaL"
      }
    }
  ]
}